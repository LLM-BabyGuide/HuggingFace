{
 "cells": [
  {
   "attachments": {},
   "cell_type": "markdown",
   "metadata": {},
   "source": [
    "# 文本分类实例"
   ]
  },
  {
   "attachments": {},
   "cell_type": "markdown",
   "metadata": {},
   "source": [
    "## Step1 导入相关包"
   ]
  },
  {
   "cell_type": "code",
   "execution_count": 1,
   "metadata": {},
   "outputs": [
    {
     "name": "stderr",
     "output_type": "stream",
     "text": [
      "/data1/zhengnanyan/miniconda3/envs/LLMpython39/lib/python3.9/site-packages/transformers/utils/hub.py:124: FutureWarning: Using `TRANSFORMERS_CACHE` is deprecated and will be removed in v5 of Transformers. Use `HF_HOME` instead.\n",
      "  warnings.warn(\n"
     ]
    }
   ],
   "source": [
    "from transformers import AutoTokenizer, AutoModelForSequenceClassification"
   ]
  },
  {
   "attachments": {},
   "cell_type": "markdown",
   "metadata": {},
   "source": [
    "## Step2 加载数据"
   ]
  },
  {
   "cell_type": "code",
   "execution_count": 2,
   "metadata": {},
   "outputs": [
    {
     "data": {
      "text/html": [
       "<div>\n",
       "<style scoped>\n",
       "    .dataframe tbody tr th:only-of-type {\n",
       "        vertical-align: middle;\n",
       "    }\n",
       "\n",
       "    .dataframe tbody tr th {\n",
       "        vertical-align: top;\n",
       "    }\n",
       "\n",
       "    .dataframe thead th {\n",
       "        text-align: right;\n",
       "    }\n",
       "</style>\n",
       "<table border=\"1\" class=\"dataframe\">\n",
       "  <thead>\n",
       "    <tr style=\"text-align: right;\">\n",
       "      <th></th>\n",
       "      <th>label</th>\n",
       "      <th>review</th>\n",
       "    </tr>\n",
       "  </thead>\n",
       "  <tbody>\n",
       "    <tr>\n",
       "      <th>0</th>\n",
       "      <td>1</td>\n",
       "      <td>距离川沙公路较近,但是公交指示不对,如果是\"蔡陆线\"的话,会非常麻烦.建议用别的路线.房间较...</td>\n",
       "    </tr>\n",
       "    <tr>\n",
       "      <th>1</th>\n",
       "      <td>1</td>\n",
       "      <td>商务大床房，房间很大，床有2M宽，整体感觉经济实惠不错!</td>\n",
       "    </tr>\n",
       "    <tr>\n",
       "      <th>2</th>\n",
       "      <td>1</td>\n",
       "      <td>早餐太差，无论去多少人，那边也不加食品的。酒店应该重视一下这个问题了。房间本身很好。</td>\n",
       "    </tr>\n",
       "    <tr>\n",
       "      <th>3</th>\n",
       "      <td>1</td>\n",
       "      <td>宾馆在小街道上，不大好找，但还好北京热心同胞很多~宾馆设施跟介绍的差不多，房间很小，确实挺小...</td>\n",
       "    </tr>\n",
       "    <tr>\n",
       "      <th>4</th>\n",
       "      <td>1</td>\n",
       "      <td>CBD中心,周围没什么店铺,说5星有点勉强.不知道为什么卫生间没有电吹风</td>\n",
       "    </tr>\n",
       "    <tr>\n",
       "      <th>...</th>\n",
       "      <td>...</td>\n",
       "      <td>...</td>\n",
       "    </tr>\n",
       "    <tr>\n",
       "      <th>7761</th>\n",
       "      <td>0</td>\n",
       "      <td>尼斯酒店的几大特点：噪音大、环境差、配置低、服务效率低。如：1、隔壁歌厅的声音闹至午夜3点许...</td>\n",
       "    </tr>\n",
       "    <tr>\n",
       "      <th>7762</th>\n",
       "      <td>0</td>\n",
       "      <td>盐城来了很多次，第一次住盐阜宾馆，我的确很失望整个墙壁黑咕隆咚的，好像被烟熏过一样家具非常的...</td>\n",
       "    </tr>\n",
       "    <tr>\n",
       "      <th>7763</th>\n",
       "      <td>0</td>\n",
       "      <td>看照片觉得还挺不错的，又是4星级的，但入住以后除了后悔没有别的，房间挺大但空空的，早餐是有但...</td>\n",
       "    </tr>\n",
       "    <tr>\n",
       "      <th>7764</th>\n",
       "      <td>0</td>\n",
       "      <td>我们去盐城的时候那里的最低气温只有4度，晚上冷得要死，居然还不开空调，投诉到酒店客房部，得到...</td>\n",
       "    </tr>\n",
       "    <tr>\n",
       "      <th>7765</th>\n",
       "      <td>0</td>\n",
       "      <td>说实在的我很失望，之前看了其他人的点评后觉得还可以才去的，结果让我们大跌眼镜。我想这家酒店以...</td>\n",
       "    </tr>\n",
       "  </tbody>\n",
       "</table>\n",
       "<p>7766 rows × 2 columns</p>\n",
       "</div>"
      ],
      "text/plain": [
       "      label                                             review\n",
       "0         1  距离川沙公路较近,但是公交指示不对,如果是\"蔡陆线\"的话,会非常麻烦.建议用别的路线.房间较...\n",
       "1         1                       商务大床房，房间很大，床有2M宽，整体感觉经济实惠不错!\n",
       "2         1         早餐太差，无论去多少人，那边也不加食品的。酒店应该重视一下这个问题了。房间本身很好。\n",
       "3         1  宾馆在小街道上，不大好找，但还好北京热心同胞很多~宾馆设施跟介绍的差不多，房间很小，确实挺小...\n",
       "4         1               CBD中心,周围没什么店铺,说5星有点勉强.不知道为什么卫生间没有电吹风\n",
       "...     ...                                                ...\n",
       "7761      0  尼斯酒店的几大特点：噪音大、环境差、配置低、服务效率低。如：1、隔壁歌厅的声音闹至午夜3点许...\n",
       "7762      0  盐城来了很多次，第一次住盐阜宾馆，我的确很失望整个墙壁黑咕隆咚的，好像被烟熏过一样家具非常的...\n",
       "7763      0  看照片觉得还挺不错的，又是4星级的，但入住以后除了后悔没有别的，房间挺大但空空的，早餐是有但...\n",
       "7764      0  我们去盐城的时候那里的最低气温只有4度，晚上冷得要死，居然还不开空调，投诉到酒店客房部，得到...\n",
       "7765      0  说实在的我很失望，之前看了其他人的点评后觉得还可以才去的，结果让我们大跌眼镜。我想这家酒店以...\n",
       "\n",
       "[7766 rows x 2 columns]"
      ]
     },
     "execution_count": 2,
     "metadata": {},
     "output_type": "execute_result"
    }
   ],
   "source": [
    "import pandas as pd\n",
    "\n",
    "data = pd.read_csv(\"./ChnSentiCorp_htl_all.csv\")\n",
    "data"
   ]
  },
  {
   "cell_type": "code",
   "execution_count": 3,
   "metadata": {},
   "outputs": [
    {
     "data": {
      "text/html": [
       "<div>\n",
       "<style scoped>\n",
       "    .dataframe tbody tr th:only-of-type {\n",
       "        vertical-align: middle;\n",
       "    }\n",
       "\n",
       "    .dataframe tbody tr th {\n",
       "        vertical-align: top;\n",
       "    }\n",
       "\n",
       "    .dataframe thead th {\n",
       "        text-align: right;\n",
       "    }\n",
       "</style>\n",
       "<table border=\"1\" class=\"dataframe\">\n",
       "  <thead>\n",
       "    <tr style=\"text-align: right;\">\n",
       "      <th></th>\n",
       "      <th>label</th>\n",
       "      <th>review</th>\n",
       "    </tr>\n",
       "  </thead>\n",
       "  <tbody>\n",
       "    <tr>\n",
       "      <th>0</th>\n",
       "      <td>1</td>\n",
       "      <td>距离川沙公路较近,但是公交指示不对,如果是\"蔡陆线\"的话,会非常麻烦.建议用别的路线.房间较...</td>\n",
       "    </tr>\n",
       "    <tr>\n",
       "      <th>1</th>\n",
       "      <td>1</td>\n",
       "      <td>商务大床房，房间很大，床有2M宽，整体感觉经济实惠不错!</td>\n",
       "    </tr>\n",
       "    <tr>\n",
       "      <th>2</th>\n",
       "      <td>1</td>\n",
       "      <td>早餐太差，无论去多少人，那边也不加食品的。酒店应该重视一下这个问题了。房间本身很好。</td>\n",
       "    </tr>\n",
       "    <tr>\n",
       "      <th>3</th>\n",
       "      <td>1</td>\n",
       "      <td>宾馆在小街道上，不大好找，但还好北京热心同胞很多~宾馆设施跟介绍的差不多，房间很小，确实挺小...</td>\n",
       "    </tr>\n",
       "    <tr>\n",
       "      <th>4</th>\n",
       "      <td>1</td>\n",
       "      <td>CBD中心,周围没什么店铺,说5星有点勉强.不知道为什么卫生间没有电吹风</td>\n",
       "    </tr>\n",
       "    <tr>\n",
       "      <th>...</th>\n",
       "      <td>...</td>\n",
       "      <td>...</td>\n",
       "    </tr>\n",
       "    <tr>\n",
       "      <th>7761</th>\n",
       "      <td>0</td>\n",
       "      <td>尼斯酒店的几大特点：噪音大、环境差、配置低、服务效率低。如：1、隔壁歌厅的声音闹至午夜3点许...</td>\n",
       "    </tr>\n",
       "    <tr>\n",
       "      <th>7762</th>\n",
       "      <td>0</td>\n",
       "      <td>盐城来了很多次，第一次住盐阜宾馆，我的确很失望整个墙壁黑咕隆咚的，好像被烟熏过一样家具非常的...</td>\n",
       "    </tr>\n",
       "    <tr>\n",
       "      <th>7763</th>\n",
       "      <td>0</td>\n",
       "      <td>看照片觉得还挺不错的，又是4星级的，但入住以后除了后悔没有别的，房间挺大但空空的，早餐是有但...</td>\n",
       "    </tr>\n",
       "    <tr>\n",
       "      <th>7764</th>\n",
       "      <td>0</td>\n",
       "      <td>我们去盐城的时候那里的最低气温只有4度，晚上冷得要死，居然还不开空调，投诉到酒店客房部，得到...</td>\n",
       "    </tr>\n",
       "    <tr>\n",
       "      <th>7765</th>\n",
       "      <td>0</td>\n",
       "      <td>说实在的我很失望，之前看了其他人的点评后觉得还可以才去的，结果让我们大跌眼镜。我想这家酒店以...</td>\n",
       "    </tr>\n",
       "  </tbody>\n",
       "</table>\n",
       "<p>7765 rows × 2 columns</p>\n",
       "</div>"
      ],
      "text/plain": [
       "      label                                             review\n",
       "0         1  距离川沙公路较近,但是公交指示不对,如果是\"蔡陆线\"的话,会非常麻烦.建议用别的路线.房间较...\n",
       "1         1                       商务大床房，房间很大，床有2M宽，整体感觉经济实惠不错!\n",
       "2         1         早餐太差，无论去多少人，那边也不加食品的。酒店应该重视一下这个问题了。房间本身很好。\n",
       "3         1  宾馆在小街道上，不大好找，但还好北京热心同胞很多~宾馆设施跟介绍的差不多，房间很小，确实挺小...\n",
       "4         1               CBD中心,周围没什么店铺,说5星有点勉强.不知道为什么卫生间没有电吹风\n",
       "...     ...                                                ...\n",
       "7761      0  尼斯酒店的几大特点：噪音大、环境差、配置低、服务效率低。如：1、隔壁歌厅的声音闹至午夜3点许...\n",
       "7762      0  盐城来了很多次，第一次住盐阜宾馆，我的确很失望整个墙壁黑咕隆咚的，好像被烟熏过一样家具非常的...\n",
       "7763      0  看照片觉得还挺不错的，又是4星级的，但入住以后除了后悔没有别的，房间挺大但空空的，早餐是有但...\n",
       "7764      0  我们去盐城的时候那里的最低气温只有4度，晚上冷得要死，居然还不开空调，投诉到酒店客房部，得到...\n",
       "7765      0  说实在的我很失望，之前看了其他人的点评后觉得还可以才去的，结果让我们大跌眼镜。我想这家酒店以...\n",
       "\n",
       "[7765 rows x 2 columns]"
      ]
     },
     "execution_count": 3,
     "metadata": {},
     "output_type": "execute_result"
    }
   ],
   "source": [
    "data = data.dropna()\n",
    "data"
   ]
  },
  {
   "attachments": {},
   "cell_type": "markdown",
   "metadata": {},
   "source": [
    "## Step3 创建Dataset"
   ]
  },
  {
   "cell_type": "code",
   "execution_count": 3,
   "metadata": {},
   "outputs": [],
   "source": [
    "from torch.utils.data import Dataset\n",
    "\n",
    "class MyDataset(Dataset):\n",
    "\n",
    "    def __init__(self) -> None:\n",
    "        super().__init__()\n",
    "        self.data = pd.read_csv(\"./ChnSentiCorp_htl_all.csv\")\n",
    "        self.data = self.data.dropna()\n",
    "\n",
    "    def __getitem__(self, index):\n",
    "        return self.data.iloc[index][\"review\"], self.data.iloc[index][\"label\"]\n",
    "    \n",
    "    def __len__(self):\n",
    "        return len(self.data)"
   ]
  },
  {
   "cell_type": "code",
   "execution_count": 4,
   "metadata": {},
   "outputs": [
    {
     "name": "stdout",
     "output_type": "stream",
     "text": [
      "('距离川沙公路较近,但是公交指示不对,如果是\"蔡陆线\"的话,会非常麻烦.建议用别的路线.房间较为简单.', 1)\n",
      "('商务大床房，房间很大，床有2M宽，整体感觉经济实惠不错!', 1)\n",
      "('早餐太差，无论去多少人，那边也不加食品的。酒店应该重视一下这个问题了。房间本身很好。', 1)\n",
      "('宾馆在小街道上，不大好找，但还好北京热心同胞很多~宾馆设施跟介绍的差不多，房间很小，确实挺小，但加上低价位因素，还是无超所值的；环境不错，就在小胡同内，安静整洁，暖气好足-_-||。。。呵还有一大优势就是从宾馆出发，步行不到十分钟就可以到梅兰芳故居等等，京味小胡同，北海距离好近呢。总之，不错。推荐给节约消费的自助游朋友~比较划算，附近特色小吃很多~', 1)\n",
      "('CBD中心,周围没什么店铺,说5星有点勉强.不知道为什么卫生间没有电吹风', 1)\n"
     ]
    }
   ],
   "source": [
    "dataset = MyDataset()\n",
    "for i in range(5):\n",
    "    print(dataset[i])"
   ]
  },
  {
   "attachments": {},
   "cell_type": "markdown",
   "metadata": {},
   "source": [
    "## Step4 划分数据集"
   ]
  },
  {
   "cell_type": "code",
   "execution_count": 5,
   "metadata": {},
   "outputs": [
    {
     "data": {
      "text/plain": [
       "(6989, 776)"
      ]
     },
     "execution_count": 5,
     "metadata": {},
     "output_type": "execute_result"
    }
   ],
   "source": [
    "from torch.utils.data import random_split\n",
    "\n",
    "\n",
    "trainset, validset = random_split(dataset, lengths=[0.9, 0.1])\n",
    "len(trainset), len(validset)"
   ]
  },
  {
   "cell_type": "code",
   "execution_count": 7,
   "metadata": {},
   "outputs": [
    {
     "name": "stdout",
     "output_type": "stream",
     "text": [
      "('我是第一次住公寓式的酒店，感觉很棒。一进客房特宽敞明亮。我住的是一室一厅套房，干净整洁，服务员的态度非常好。我是和姐姐一起过来的，她喜欢看日本台，这里能收到好多国际频道呢！楼上的餐厅也是我喜欢的那种画廊式餐厅，非常Mordern哦，如果是一家人来这里真的很超值方便呢，值得推荐一去啊～～～～补充点评2008年1月24日：房间很大很超值，远远高于三星级酒店的标准，可以跟四星级的媲美了呢～很棒～如果下次到北京我还是会到这', 1)\n",
      "('见过差的四星，没见过这么差的四星。千万不要住，晚上还有骚扰电话', 0)\n",
      "('酒店幻境很好超安静适合休息附近的公园景色舒适惬意晚餐不错不过方便没有商店比较困难', 1)\n",
      "('观景大床房，住了2晚。酒店位置很好，距离虹桥机场只有不到10公里，出行、叫车都算方便。据说是人大培训用的酒店，三星标准。服务还可以，但是洗手间设施比较陈旧，淋浴间的下水不太通畅，毛巾也是很旧的样子。', 1)\n",
      "('酒店很干净，窗外见山，山味很好闻。早餐不错，凉拌米粉特别好吃，小菜也好。餐厅价格比外面高，但卫生好很多，质量也较高，有一个靓妹很养眼。酒店位置好，闹中取静。总的来说，非常满意，特别是价格很便宜，180含双早，^_^。会推荐朋友来。补充点评2008年8月16日：可以刷卡的。', 1)\n",
      "('地理位置好，主要是韩国人入住，早餐韩式的，房间比较干净，洗手间很小。', 1)\n",
      "('听朋友介绍不错，因此出差选择了此酒店，一进酒店感觉院子很大、绿化很好，在大热天看着很舒服，停车场很大也很安全，对自驾游的朋友很合适，酒店大堂布置很古朴，透过大堂落地玻璃能看到外面庭院的风景，很雅致，就是大堂有点矮，房间很安静、干净，还有人性化的一键通服务，很方便，服务员也很有礼貌，看到客人会主动打招呼，总台的业务操作很熟练。就是不知怎么回事卫生间的门有点掉颜色，提醒要入住南林的朋友洗澡时不要把自己的衣服挂在门后，出门不远就是网师园、沧浪亭，在古城区该酒店房价也算不贵的，大致不错，值得推荐。', 1)\n",
      "('房间还是不错的.至少在酒店式公寓里算是好的.前台不是很热情,毕竟是酒店式公寓,不是酒店,所受培训不是很够.酒店的ShuttleBus很方便,司机师傅也很热情,很好.推荐入住.', 1)\n",
      "('除了离机场近,我实在想不到什么其他理由非得选择他.', 1)\n",
      "('定得是豪华套间，但一点都不豪华。酒店周围打车不方便，特别在上下班时很困难，也没有地铁或者公交等，周围也没什么饭店。酒店得早餐比较差，餐厅小，吃饭得人多，吃的东西也很少。离铁轨太近，火车开过山摇地动。我住了5天，而且从没提过中途退房，最后携程告诉我酒店说我只住了2天就退房了，虽然最后是解决了，但很不爽唯一好得，酒店工作人员还比较热情', 0)\n"
     ]
    }
   ],
   "source": [
    "for i in range(10):\n",
    "    print(trainset[i])"
   ]
  },
  {
   "attachments": {},
   "cell_type": "markdown",
   "metadata": {},
   "source": [
    "## Step5 创建Dataloader\n",
    "\n",
    "dataloader的主要作用是将数据集转换为可以批量处理的形式，以提高训练和推理效率。"
   ]
  },
  {
   "cell_type": "code",
   "execution_count": 6,
   "metadata": {},
   "outputs": [
    {
     "data": {
      "text/plain": [
       "(0,\n",
       " [('我们去盐城的时候那里的最低气温只有4度，晚上冷得要死，居然还不开空调，投诉到酒店客房部，得到的答复是现在还没有领导指示需要开暖气，如果冷到话可以多给一床被子，太可怜了。。。',\n",
       "   '位置好,去莫家街\\\\华联\\\\大十字等都非常方便,服务卫生不错,自助早餐丰盛,经济间稍小,性价比高.',\n",
       "   '位置靠近区体校，不是正市区中心，但交通都算方便，离火车站也近。各方面都为标准4星酒店，服务比较热情，可能和管理有关。以前都是住凤凰，甬江的，这次在机场看到有酒店人员打着免费接机的牌子就注意上了，回程就住到该酒店，去机场只要和前台预约一下就可以了，一个人都送机。对于往返机场的旅客还是很方便的。',\n",
       "   '环境差得很.进房间就一股丑味.设施简陋,电视不清楚,最重要的是房间价格,自己到店大堂可以还价,价格比携程价还要低,携程210的到店里可以还到180.',\n",
       "   '可能是因为订的是特惠大床房,空间相当小,厕所的空闲也很小,就在床边上.感觉真的是寸土寸金.酒店更像是公寓,隔音也不好,肯定一点就是还比较干净.宾馆反馈2008年7月21日：非常感谢您的评价，如果您需要更大的空间，下次入住时可以选择我们面积更大的豪华房或套房。隔音问题我们会立即检查并做改进。衷心希望您再次光临南浦瑞峰酒店。',\n",
       "   '用餐一般，价格比一般稍贵，签单付账时千万注意，因为它没有明细，只会写\"零点餐\"然后一个总金额\"如\"零点餐－－1032.00\").如果是集团划账请千万注意多收费现象,而且周期很长,可能会花一个月时间在对账上.(请分清是销售在和您对账而不是财务).',\n",
       "   '除了部分设施有点老之外，是很好的酒店。尤其是服务很到位！餐厅的服务员点错了菜，导致结账多了50多元，不用一分钟就立刻改正解决，很好！！',\n",
       "   '这个酒店住过很多次的了，商务标间和豪华标间都住过。商务标间洗澡比豪华标间舒服，有个大花洒，不过浴缸都感觉不怎么干净，所以就没有用。酒店服务也不错。足浴的MM也不错，都挺漂亮的。早餐一般，将就着吃吃。酒店不远一条街，算是美食街吧，很多吃的，川菜特别多。总的感觉比临海另外一家四星的要好。',\n",
       "   '自3月12号住进包头鞍山店,心里感觉很失望!房间环境还行,就是窗户不透气,服务质量很差,餐厅菜的品种少并价格贵,最可恨的是欺骗顾客,房间未有热水,不与顾客讲明,跟前台及服务员说了多次,未能处理,自入店以来洗脸洗脚用的都是凉水,天气又冷实在是受不了,直到17号,才通知顾客换房.真是无奈.....',\n",
       "   '总的来说很不错。。。。。。。。。。。。。。',\n",
       "   '房间比较宽敞,环境还不错,交通也还方便,最大的缺憾就是就餐不便,酒店只有较贵的早餐,二楼的餐厅倒闭了.好在周围有些饭店和便当店可以自己解决,总之,在上海住这样的酒店,性价比还不错!',\n",
       "   '下次如果我去到,情愿睡桥底也不住这个酒店.',\n",
       "   '此酒店是一座住宅大，由31以上改酒店，我入住的是一一房位，然有放式房，煮食灶，可是任何煮食用具都有。很大可惜只有坐位梳化，床房小得可，床只有一米，洗手也很小，淋浴小企缸跟坐及洗手在一起，剩空只能容一人。一可取的是下酒茶相。附近都是高的住宅，有甚物，$370的房在是不值。',\n",
       "   '管理混乱，脏、乱、差当地名声不好出租司机找不到此宾馆',\n",
       "   '酒店的地理位置确实不错，离南京东路和福州路都很近都只走几分钟路了，特别是上海书城就在不到一百米远，旁边还有浦发银行和民生银行，酒店服务不错，以后可能还会住了。就希望早餐好点！',\n",
       "   '原先定的并洲饭店，但离办事的地方较远，所以很犹豫地定了一个晚上，没想到入住以后发现很干净，一点都不比湖滨饭店之类的所谓星级酒店差，于是马上联系携程，在太原的三天全都改定漳电。头一天晚上旁边住的几个人打了一宿的牌，吵得很，一晚上没睡好，早上告诉前台，服务很好，态度也不错，马上通知服务员去了解，第二天晚上安安静静的，让我睡个好觉，下次一定还选这！',\n",
       "   '还好啦，卫生还可以搞得更好一些，床单上有一小片污渍！补充点评2007年11月14日：其他方面都不错。',\n",
       "   '地段很好，很方便。服务也算不错。这个价钱还是非常值得的。',\n",
       "   '除了水忽冷忽热，其他都可以，安静，交通方便，周围吃饭也好，下次还会继续住他。楼下有公共车直达火车站和冰雪大世界，机场大巴到康安路站后也离这个酒店很近',\n",
       "   '因为春秋航空晚点6个小时，到酒店的时候已经快凌晨2点了。期间打了两个电话给酒店，请求延迟入住时间，前台小姐比较热心的告诉了我机场到酒店需要的出租车费，避免给人很宰一刀。房间硬件不错，服务也很好。',\n",
       "   '非常喜欢上海的FOURSEASONS酒店的工作人员素质相当高，什么都想在客人前面，不愧是五星级的酒店，各副其实。与上海许多非常著名的全球知名的五星级酒店相比，其服务与设施都算是很好的。一直在那边开会，会议室的布置相当到位，每次都想到客人想不到的细节。提供的食物也相当可口。在上海举办商务会议，FOURSEASONS一定是我的首选。另外，今年冬天入住的时候，发现酒店提供的沐浴及护肤产品是欧舒丹的呢',\n",
       "   '携城预定员极力推荐这家酒店，相信她才入住了这家，结果到了酒店才发现，连一星级都不如，前台的小姐穿着自家的衣服，慢不经心地回答着问题，大堂里一个人也没有，所有的服务部门都关着门（商场、足浴等）入住好后一进房间差点没被两只蚊子同时夹功，这么冷的天哪来的蚊子呀？奇怪，酒店真有本事！床单没洗，脏得要命。实在看不下去要求换房。晚上要总台送把水果刀和汤勺，得到的回复是没有这项服务，晕倒！！更搞笑的是，原本预定时说是含早餐，结果问前台，说是没有早餐，退我们二十块钱，再次晕倒！连基本的服务都办不到，还开什么酒店！！！我对酒店没有太大的意见，对携城到是有很大的意见，我们是你们的钻石会员，怎么给我们推荐这样的酒店，给我们的客户造成了不可磨灭的坏印象，如果这样的话我们以后宁愿不选择通过贵司预定。',\n",
       "   '感觉这个酒店很一般,隔音特别不好,窗户都不是中空玻璃的,又临者马路,相当吵人,一夜都睡不好,房间的隔断也挺次,旁边房间讲电话,这屋听',\n",
       "   '还不错，可以住一下，并且建议你住高一点层次的房间',\n",
       "   '相比之下，在这边应该是比较好的酒店吧，不过价格还是点高',\n",
       "   '凌晨近二点到店，就我一个客人在前台办手续，办了十分钟才办好，更郁闷的是酒店竟然开了一个没有打扫过的房间给我，房号463，住了这么多年的酒店还是第一次发生此类事件，凌晨二点拉着行李在酒店里至少走100米的走廊跑个来回，再下来换一个房间，酒店值班经理为此送了一份早餐。希望下次不要再次发生此类事件。第二天早上8点多退房，前台6个服务员，竟然没有一个人接待，最后还是发火了才有人理我们，如家现在真的是越来越差了，基本快放弃入住如家连锁。房间是木板隔开的，隔音超差，2点到2点半，隔壁嘿咻嘿咻，早上5点钟又开始，这次沈阳入住总共才6个小时，十分不愉快。',\n",
       "   '住了三天,感觉服务还可以,晚上的自助餐还不错.',\n",
       "   '上个周末又去了河源。这回提前预订了万豪国际酒店2个晚上，酒店真的没有令我们夫妇失望，我们为自己的选择洋洋得意。当时由于不能在约定的时间傍晚6点钟之前到达酒店，和酒店联系时，酒店接待处非常有礼和善解人意，让我们两公婆非常放心地优哉游哉地在半夜2点到了酒店，酒店大堂不霸气但很大气，前台设计不是像其他酒店那样让客人站着填单，而是让我舒舒服服地坐着，非常愉快地办好了入住手续。不得不提一句，真的好漂亮的前台美眉哦，俏丽、恬静、端庄，怪不得人家都说客家妹美上人心窝.....酒店有主楼房间和别墅房间，标准客房都在别墅区，楼梯上下，一梯两个房间，房间干净、整齐，互联网免费，网速快，洗手间有时尚杂志，还有英文版的。洗澡间水压好，洗澡非常舒服，老公在里面洗澡伴着水声哼了一小时的歌都不肯出来，还说是因为万绿湖的原因，水的滋味很好，哈哈，真是有点快乐得爱屋及乌的可能了！！住了两个晚上，由于整个周末都下雨，几顿饭都在酒店里叹美食，一楼的食街出品非常精致，味道正，无论是大餐牌上正餐大菜，还是特色风味小菜，大厨即点即煮，卖相造型已经让人满心欢喜了，我们最后还餐后有甜品，加起来才70多元，按照性价比，超值！（唯一可惜的是，因为之前的一个周末已经在这里吃过晚餐，知道这有好东西，所以当晚半夜2点到达酒店时以为这里还是24小时营业，美滋滋地想来个房间送餐，结果被告知2点收市，自己心理作用就觉得更加饿得不行了，两公婆狂吃了一盒曲奇）。12楼是旋转餐厅，两个午餐都在上面，碰巧设备检修，餐厅不转，不过也没问题，俯视文化广场，风景不错，偶尔还有点和风细雨，雨还没停，就可以看到有人在打篮球和乒乓球了。两个中午都点了沙拉，牛扒，还有一个套餐，不错。下次来，打算去11楼尝尝那里的私房菜。差点忘了说说，一楼食街的洗手间很干净，老公一听，赶紧也去瞧瞧，果然！两人哈哈大笑，因为一般在外面我是不去洗手间的，能让我放心进去解决问题而又满意的洗手间更是少之又少，哈哈！好！可以肯定，这里的员工有非常严格的工作准则，严格的培训之后一定是严格的管理。天下着雨，门童一看见我们回来，马上扛着个七彩大伞就过来，态度非常友好，雨伞实在是大，动作有点憨态可掬，我们都乐不可支，非常开心！房间服务员和我们在楼下迎面相遇，都静静地停下来在一边向我们问好。由于我们房间冷气出现了一点问题，客房部处理的比较专业，联系换房、搬行李，换钥匙，都是显得有条不紊，快捷妥当。这已经让我们非常满意了。外出度假，希望酒店让客人心情愉快是首要的，万豪做到了，我们还会再来入住的！如果真的要说些建议的话，权且当是我挑剔吧。洗手间渗水的情况不容忽视，我们住了很多的酒店，基本上都存在着个问题，而我偏偏又是对洗手间的要求特别高，干净、简约、温馨、宽敞、不积水、不渗水，万豪国际酒店，除了渗水这个国内酒店老大难问题，其他的都达我标准了。哈哈！或许希望酒店能在别墅区里设置有一张大床的房间类型，因为我们是周末自费休闲客人，就不希望付公司商务差旅的价格房费去预定商务房间，虽然不是商旅，但也希望能安寝哦！看到很多别墅前都停泊着名贵靓车，相信也是来休闲度假的情侣，他们也需要大大的安睡空间哦！考虑考虑！',\n",
       "   '本来觉得这个宾馆住得挺好的,没想到退房的时候出事了,烟灰缸没了前台认定是我们拿了，我们一来全是女的不抽烟二来没小孩会打碎,真是奇了怪了,碰到这种事情真是说也说不清楚了,还好后来经理出现事情才算了结,没被继续冤枉.但是时间还是浪费了半个小时,还生了点气.前台态度不大好,房间挺宽敞,有电脑,海景也不错，但是到半夜的时候真的是太吵了，因为旁边就是马路，三亚市区好象没有禁止喇叭的规定,吵死了,没怎么睡好',\n",
       "   '前台没有传说的那么慢，我去的时候还可以。整体服务还不错。当时是3月份去的，房间有点冷，洗澡的时候直打哆嗦。网速还可以。',\n",
       "   '在当地算是家不错的宾馆，交通方便，离闹市区不远，对面就是大超市，用餐方便，宾馆2楼和周围的小店味道都可以。',\n",
       "   '我是12月20几号在珠江花园酒店住了几天，感觉还不错，出门就可以到海边，不过下午饿了，酒店没有什么吃的，出去外面也都还没有营业，感觉挺不舒服的，但是此酒店在来看来还是蛮ok的，相对这个时间，价格还不错，也像前面说的房间不够大，尤其是阳台太小。不过下次我应该还会考虑入住这间酒店。补充点评2008年1月1日：不知道为什么我给的4分，跳成5分了，补充一点，这间酒店我只评4分。'),\n",
       "  tensor([0, 1, 1, 0, 0, 0, 1, 1, 0, 1, 1, 0, 0, 0, 1, 1, 1, 1, 1, 1, 1, 0, 0, 1,\n",
       "          1, 0, 1, 1, 1, 1, 1, 1])])"
      ]
     },
     "execution_count": 6,
     "metadata": {},
     "output_type": "execute_result"
    }
   ],
   "source": [
    "from torch.utils.data import DataLoader\n",
    "\n",
    "trainLoader = DataLoader(trainset,batch_size=32,shuffle=True)\n",
    "vaildLoader = DataLoader(validset,batch_size=64,shuffle=False)\n",
    "next(enumerate(trainLoader)) # 一次取出32条数据，批处理"
   ]
  },
  {
   "cell_type": "code",
   "execution_count": 13,
   "metadata": {},
   "outputs": [],
   "source": [
    "# 上面的数据都是raw data，还需要做预处理，比如tokenization\n",
    "# 可以使用collate_fn，在DataLoader取样本的时候，借助批处理，对样本进行预处理"
   ]
  },
  {
   "cell_type": "code",
   "execution_count": 7,
   "metadata": {},
   "outputs": [],
   "source": [
    "import torch\n",
    "from transformers import AutoTokenizer\n",
    "\n",
    "tokenizer = AutoTokenizer.from_pretrained(\"hfl/rbt3\")\n",
    "\n",
    "def collate_func(batch):\n",
    "    texts, labels = [], [] # 文本和标签分开存储\n",
    "    for item in batch:\n",
    "        texts.append(item[0])\n",
    "        labels.append(item[1])\n",
    "    # 对text做tokenization \n",
    "    inputs = tokenizer(texts, max_length=128, padding=\"max_length\", truncation=True, return_tensors=\"pt\")\n",
    "    inputs[\"labels\"] = torch.tensor(labels)\n",
    "    return inputs"
   ]
  },
  {
   "cell_type": "code",
   "execution_count": 8,
   "metadata": {},
   "outputs": [],
   "source": [
    "from torch.utils.data import DataLoader\n",
    "\n",
    "# collate_fn：如何取样本的，我们可以定义自己的函数来准确地实现想要的功能。\n",
    "trainloader = DataLoader(trainset, batch_size=32, shuffle=True, collate_fn=collate_func)\n",
    "validloader = DataLoader(validset, batch_size=64, shuffle=False, collate_fn=collate_func)"
   ]
  },
  {
   "cell_type": "code",
   "execution_count": 24,
   "metadata": {},
   "outputs": [
    {
     "data": {
      "text/plain": [
       "{'input_ids': tensor([[ 101, 1034, 1034,  ...,  100,  117,  102],\n",
       "        [ 101,  100,  100,  ...,    0,    0,    0],\n",
       "        [ 101,  976,  100,  ...,  100, 1030,  102],\n",
       "        ...,\n",
       "        [ 101,  100,  985,  ...,    0,    0,    0],\n",
       "        [ 101,  100,  100,  ...,    0,    0,    0],\n",
       "        [ 101,  100,  100,  ...,    0,    0,    0]]), 'token_type_ids': tensor([[0, 0, 0,  ..., 0, 0, 0],\n",
       "        [0, 0, 0,  ..., 0, 0, 0],\n",
       "        [0, 0, 0,  ..., 0, 0, 0],\n",
       "        ...,\n",
       "        [0, 0, 0,  ..., 0, 0, 0],\n",
       "        [0, 0, 0,  ..., 0, 0, 0],\n",
       "        [0, 0, 0,  ..., 0, 0, 0]]), 'attention_mask': tensor([[1, 1, 1,  ..., 1, 1, 1],\n",
       "        [1, 1, 1,  ..., 0, 0, 0],\n",
       "        [1, 1, 1,  ..., 1, 1, 1],\n",
       "        ...,\n",
       "        [1, 1, 1,  ..., 0, 0, 0],\n",
       "        [1, 1, 1,  ..., 0, 0, 0],\n",
       "        [1, 1, 1,  ..., 0, 0, 0]]), 'labels': tensor([0, 1, 0, 0, 1, 0, 1, 1, 1, 1, 0, 1, 1, 0, 0, 1, 1, 1, 1, 1, 1, 1, 0, 1,\n",
       "        1, 1, 0, 1, 0, 1, 0, 1, 1, 0, 0, 1, 0, 1, 0, 0, 1, 1, 1, 1, 1, 0, 1, 0,\n",
       "        1, 1, 0, 1, 1, 1, 1, 1, 1, 0, 1, 1, 1, 0, 1, 1])}"
      ]
     },
     "execution_count": 24,
     "metadata": {},
     "output_type": "execute_result"
    }
   ],
   "source": [
    "next(enumerate(validloader))[1]"
   ]
  },
  {
   "attachments": {},
   "cell_type": "markdown",
   "metadata": {},
   "source": [
    "## Step6 创建模型及优化器"
   ]
  },
  {
   "cell_type": "code",
   "execution_count": 9,
   "metadata": {},
   "outputs": [
    {
     "name": "stderr",
     "output_type": "stream",
     "text": [
      "Some weights of BertForSequenceClassification were not initialized from the model checkpoint at hfl/rbt3 and are newly initialized: ['classifier.bias', 'classifier.weight']\n",
      "You should probably TRAIN this model on a down-stream task to be able to use it for predictions and inference.\n"
     ]
    }
   ],
   "source": [
    "from torch.optim import Adam # 优化器\n",
    "from transformers import AutoModelForSequenceClassification\n",
    "\n",
    "model = AutoModelForSequenceClassification.from_pretrained(\"hfl/rbt3\")\n",
    "\n",
    "if torch.cuda.is_available():\n",
    "    model = model.cuda()"
   ]
  },
  {
   "cell_type": "code",
   "execution_count": 10,
   "metadata": {},
   "outputs": [],
   "source": [
    "# 要优化哪些参数，学习率lr\n",
    "optimizer = Adam(model.parameters(), lr=2e-5)"
   ]
  },
  {
   "cell_type": "code",
   "execution_count": 18,
   "metadata": {},
   "outputs": [
    {
     "data": {
      "text/plain": [
       "BertForSequenceClassification(\n",
       "  (bert): BertModel(\n",
       "    (embeddings): BertEmbeddings(\n",
       "      (word_embeddings): Embedding(21128, 768, padding_idx=0)\n",
       "      (position_embeddings): Embedding(512, 768)\n",
       "      (token_type_embeddings): Embedding(2, 768)\n",
       "      (LayerNorm): LayerNorm((768,), eps=1e-12, elementwise_affine=True)\n",
       "      (dropout): Dropout(p=0.1, inplace=False)\n",
       "    )\n",
       "    (encoder): BertEncoder(\n",
       "      (layer): ModuleList(\n",
       "        (0-2): 3 x BertLayer(\n",
       "          (attention): BertAttention(\n",
       "            (self): BertSelfAttention(\n",
       "              (query): Linear(in_features=768, out_features=768, bias=True)\n",
       "              (key): Linear(in_features=768, out_features=768, bias=True)\n",
       "              (value): Linear(in_features=768, out_features=768, bias=True)\n",
       "              (dropout): Dropout(p=0.1, inplace=False)\n",
       "            )\n",
       "            (output): BertSelfOutput(\n",
       "              (dense): Linear(in_features=768, out_features=768, bias=True)\n",
       "              (LayerNorm): LayerNorm((768,), eps=1e-12, elementwise_affine=True)\n",
       "              (dropout): Dropout(p=0.1, inplace=False)\n",
       "            )\n",
       "          )\n",
       "          (intermediate): BertIntermediate(\n",
       "            (dense): Linear(in_features=768, out_features=3072, bias=True)\n",
       "            (intermediate_act_fn): GELUActivation()\n",
       "          )\n",
       "          (output): BertOutput(\n",
       "            (dense): Linear(in_features=3072, out_features=768, bias=True)\n",
       "            (LayerNorm): LayerNorm((768,), eps=1e-12, elementwise_affine=True)\n",
       "            (dropout): Dropout(p=0.1, inplace=False)\n",
       "          )\n",
       "        )\n",
       "      )\n",
       "    )\n",
       "    (pooler): BertPooler(\n",
       "      (dense): Linear(in_features=768, out_features=768, bias=True)\n",
       "      (activation): Tanh()\n",
       "    )\n",
       "  )\n",
       "  (dropout): Dropout(p=0.1, inplace=False)\n",
       "  (classifier): Linear(in_features=768, out_features=2, bias=True)\n",
       ")"
      ]
     },
     "execution_count": 18,
     "metadata": {},
     "output_type": "execute_result"
    }
   ],
   "source": [
    "model"
   ]
  },
  {
   "attachments": {},
   "cell_type": "markdown",
   "metadata": {},
   "source": [
    "## Step7 训练与验证"
   ]
  },
  {
   "cell_type": "code",
   "execution_count": 14,
   "metadata": {},
   "outputs": [],
   "source": [
    "def evaluate():\n",
    "    model.eval() # 将模型设置为评估模式，这会影响一些层的行为，例如 Dropout 层在评估时会关闭。\n",
    "    acc_num = 0 # 预测对的个数\n",
    "    with torch.inference_mode():\n",
    "        for batch in validloader: # 验证集\n",
    "            if torch.cuda.is_available():\n",
    "                batch = {k: v.cuda() for k, v in batch.items()}\n",
    "            output = model(**batch)\n",
    "            # outputs.logits 模型的输出中预测的原始分数或概率。 huggingface得到的都是logits \n",
    "            # torch.argmax 函数计算每个样本预测的最高分数或概率所对应的类别索引。\n",
    "            pred = torch.argmax(output.logits, dim=-1)\n",
    "            # 当前batch预测对的个数，所以有sum\n",
    "            acc_num += (pred.long() == batch[\"labels\"].long()).float().sum()\n",
    "    return acc_num / len(validset)\n",
    "\n",
    "def train(epoch=3, log_step=100):  # epoch：几轮\n",
    "    global_step = 0\n",
    "    # 训练\n",
    "    for ep in range(epoch):\n",
    "        model.train()\n",
    "        for batch in trainloader:\n",
    "            if torch.cuda.is_available(): # 判断是否有gpu\n",
    "                # 将批次中的所有数据移动到设备（例如 GPU）上进行训练。这是为了在 GPU 上加速训练过程。\n",
    "                batch = {k: v.cuda() for k, v in batch.items()}\n",
    "            optimizer.zero_grad() # 清空梯度，为下一个批次做准备\n",
    "            # 将批次数据输入模型，获取模型的输出。**batch 表示将字典中的键值对解包为关键字参数\n",
    "            output = model(**batch)\n",
    "            output.loss.backward() # 通过反向传播计算损失关于模型参数的梯度\n",
    "            optimizer.step() # 根据梯度更新模型参数\n",
    "            if global_step % log_step == 0:\n",
    "                print(f\"ep: {ep}, global_step: {global_step}, loss: {output.loss.item()}\")\n",
    "            global_step += 1\n",
    "        acc = evaluate()\n",
    "        print(f\"ep: {ep}, acc: {acc}\")"
   ]
  },
  {
   "cell_type": "code",
   "execution_count": 11,
   "metadata": {},
   "outputs": [],
   "source": [
    "for batch in trainloader:\n",
    "    if torch.cuda.is_available(): # 判断是否有gpu\n",
    "        # 将批次中的所有数据移动到设备（例如 GPU）上进行训练。这是为了在 GPU 上加速训练过程。\n",
    "        batch = {k: v.cuda() for k, v in batch.items()}"
   ]
  },
  {
   "cell_type": "code",
   "execution_count": 12,
   "metadata": {},
   "outputs": [
    {
     "data": {
      "text/plain": [
       "{'input_ids': tensor([[ 101, 3221,  671,  ...,    0,    0,    0],\n",
       "         [ 101, 3683, 6772,  ...,    0,    0,    0],\n",
       "         [ 101,  122,  119,  ..., 3221, 7305,  102],\n",
       "         ...,\n",
       "         [ 101, 2523, 5439,  ...,    0,    0,    0],\n",
       "         [ 101,  857,  749,  ..., 2791, 6624,  102],\n",
       "         [ 101, 3302, 1218,  ...,    0,    0,    0]], device='cuda:0'),\n",
       " 'token_type_ids': tensor([[0, 0, 0,  ..., 0, 0, 0],\n",
       "         [0, 0, 0,  ..., 0, 0, 0],\n",
       "         [0, 0, 0,  ..., 0, 0, 0],\n",
       "         ...,\n",
       "         [0, 0, 0,  ..., 0, 0, 0],\n",
       "         [0, 0, 0,  ..., 0, 0, 0],\n",
       "         [0, 0, 0,  ..., 0, 0, 0]], device='cuda:0'),\n",
       " 'attention_mask': tensor([[1, 1, 1,  ..., 0, 0, 0],\n",
       "         [1, 1, 1,  ..., 0, 0, 0],\n",
       "         [1, 1, 1,  ..., 1, 1, 1],\n",
       "         ...,\n",
       "         [1, 1, 1,  ..., 0, 0, 0],\n",
       "         [1, 1, 1,  ..., 1, 1, 1],\n",
       "         [1, 1, 1,  ..., 0, 0, 0]], device='cuda:0'),\n",
       " 'labels': tensor([1, 1, 1, 0, 1, 0, 1, 1, 1, 1, 0, 0, 0], device='cuda:0')}"
      ]
     },
     "execution_count": 12,
     "metadata": {},
     "output_type": "execute_result"
    }
   ],
   "source": [
    "batch"
   ]
  },
  {
   "cell_type": "code",
   "execution_count": null,
   "metadata": {},
   "outputs": [],
   "source": [
    "# 上面的device='cuda:0'\n",
    "model.cuda(2)"
   ]
  },
  {
   "attachments": {
    "image.png": {
     "image/png": "[encoded data removed]"
    }
   },
   "cell_type": "markdown",
   "metadata": {},
   "source": [
    "cuda都是从0 开始数的\n",
    "\n",
    "![image.png](attachment:image.png)"
   ]
  },
  {
   "attachments": {},
   "cell_type": "markdown",
   "metadata": {},
   "source": [
    "## Step8 模型训练"
   ]
  },
  {
   "cell_type": "code",
   "execution_count": 15,
   "metadata": {},
   "outputs": [
    {
     "name": "stdout",
     "output_type": "stream",
     "text": [
      "ep: 0, global_step: 0, loss: 0.7754237651824951\n",
      "ep: 0, global_step: 100, loss: 0.2832787334918976\n",
      "ep: 0, global_step: 200, loss: 0.16568639874458313\n",
      "ep: 0, acc: 0.8853092789649963\n",
      "ep: 1, global_step: 300, loss: 0.4200381934642792\n",
      "ep: 1, global_step: 400, loss: 0.2362835854291916\n",
      "ep: 1, acc: 0.9033504724502563\n",
      "ep: 2, global_step: 500, loss: 0.2246057540178299\n",
      "ep: 2, global_step: 600, loss: 0.08999053388834\n",
      "ep: 2, acc: 0.9007731676101685\n"
     ]
    }
   ],
   "source": [
    "train()"
   ]
  },
  {
   "attachments": {},
   "cell_type": "markdown",
   "metadata": {},
   "source": [
    "## Step9 模型预测"
   ]
  },
  {
   "cell_type": "code",
   "execution_count": 17,
   "metadata": {},
   "outputs": [
    {
     "name": "stdout",
     "output_type": "stream",
     "text": [
      "1\n",
      "输入：我觉得这家酒店不错，饭很好吃！\n",
      "模型预测结果:好评！\n"
     ]
    }
   ],
   "source": [
    "sen = \"我觉得这家酒店不错，饭很好吃！\"\n",
    "id2_label = {0: \"差评！\", 1: \"好评！\"}\n",
    "model.eval() # 将模型设置为评估模式\n",
    "with torch.inference_mode():\n",
    "    inputs = tokenizer(sen, return_tensors=\"pt\") # 输入还是要分词\n",
    "    inputs = {k: v.cuda() for k, v in inputs.items()}\n",
    "    logits = model(**inputs).logits # 获得预测结果，是logits\n",
    "    pred = torch.argmax(logits, dim=-1) # 选择最大概率，就是pred预测结果类别\n",
    "    print(pred.item())\n",
    "    print(f\"输入：{sen}\\n模型预测结果:{id2_label.get(pred.item())}\") # 数到label的转变"
   ]
  },
  {
   "cell_type": "code",
   "execution_count": 17,
   "metadata": {},
   "outputs": [],
   "source": [
    "from transformers import pipeline\n",
    "\n",
    "model.config.id2label = id2_label\n",
    "pipe = pipeline(\"text-classification\", model=model, tokenizer=tokenizer, device=0)"
   ]
  },
  {
   "cell_type": "code",
   "execution_count": 18,
   "metadata": {},
   "outputs": [
    {
     "data": {
      "text/plain": [
       "[{'label': '好评！', 'score': 0.9968716502189636}]"
      ]
     },
     "execution_count": 18,
     "metadata": {},
     "output_type": "execute_result"
    }
   ],
   "source": [
    "pipe(sen)"
   ]
  }
 ],
 "metadata": {
  "kernelspec": {
   "display_name": "transformers",
   "language": "python",
   "name": "python3"
  },
  "language_info": {
   "codemirror_mode": {
    "name": "ipython",
    "version": 3
   },
   "file_extension": ".py",
   "mimetype": "text/x-python",
   "name": "python",
   "nbconvert_exporter": "python",
   "pygments_lexer": "ipython3",
   "version": "3.9.18"
  },
  "orig_nbformat": 4
 },
 "nbformat": 4,
 "nbformat_minor": 2
}
